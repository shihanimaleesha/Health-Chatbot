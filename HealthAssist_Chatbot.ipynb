{
  "nbformat": 4,
  "nbformat_minor": 0,
  "metadata": {
    "colab": {
      "provenance": []
    },
    "kernelspec": {
      "name": "python3",
      "display_name": "Python 3"
    },
    "language_info": {
      "name": "python"
    }
  },
  "cells": [
    {
      "cell_type": "code",
      "source": [
        "pip install sumy"
      ],
      "metadata": {
        "colab": {
          "base_uri": "https://localhost:8080/"
        },
        "id": "3YNIzTuC300U",
        "outputId": "76d218a8-2cd6-49a8-ec41-075ef26dcf7b"
      },
      "execution_count": 3,
      "outputs": [
        {
          "output_type": "stream",
          "name": "stdout",
          "text": [
            "Collecting sumy\n",
            "  Downloading sumy-0.11.0-py2.py3-none-any.whl (97 kB)\n",
            "\u001b[2K     \u001b[90m━━━━━━━━━━━━━━━━━━━━━━━━━━━━━━━━━━━━━━━━\u001b[0m \u001b[32m97.3/97.3 kB\u001b[0m \u001b[31m1.3 MB/s\u001b[0m eta \u001b[36m0:00:00\u001b[0m\n",
            "\u001b[?25hCollecting docopt<0.7,>=0.6.1 (from sumy)\n",
            "  Downloading docopt-0.6.2.tar.gz (25 kB)\n",
            "  Preparing metadata (setup.py) ... \u001b[?25l\u001b[?25hdone\n",
            "Collecting breadability>=0.1.20 (from sumy)\n",
            "  Downloading breadability-0.1.20.tar.gz (32 kB)\n",
            "  Preparing metadata (setup.py) ... \u001b[?25l\u001b[?25hdone\n",
            "Requirement already satisfied: requests>=2.7.0 in /usr/local/lib/python3.10/dist-packages (from sumy) (2.31.0)\n",
            "Collecting pycountry>=18.2.23 (from sumy)\n",
            "  Downloading pycountry-23.12.11-py3-none-any.whl (6.2 MB)\n",
            "\u001b[2K     \u001b[90m━━━━━━━━━━━━━━━━━━━━━━━━━━━━━━━━━━━━━━━━\u001b[0m \u001b[32m6.2/6.2 MB\u001b[0m \u001b[31m25.6 MB/s\u001b[0m eta \u001b[36m0:00:00\u001b[0m\n",
            "\u001b[?25hRequirement already satisfied: nltk>=3.0.2 in /usr/local/lib/python3.10/dist-packages (from sumy) (3.8.1)\n",
            "Requirement already satisfied: chardet in /usr/local/lib/python3.10/dist-packages (from breadability>=0.1.20->sumy) (5.2.0)\n",
            "Requirement already satisfied: lxml>=2.0 in /usr/local/lib/python3.10/dist-packages (from breadability>=0.1.20->sumy) (4.9.4)\n",
            "Requirement already satisfied: click in /usr/local/lib/python3.10/dist-packages (from nltk>=3.0.2->sumy) (8.1.7)\n",
            "Requirement already satisfied: joblib in /usr/local/lib/python3.10/dist-packages (from nltk>=3.0.2->sumy) (1.4.0)\n",
            "Requirement already satisfied: regex>=2021.8.3 in /usr/local/lib/python3.10/dist-packages (from nltk>=3.0.2->sumy) (2023.12.25)\n",
            "Requirement already satisfied: tqdm in /usr/local/lib/python3.10/dist-packages (from nltk>=3.0.2->sumy) (4.66.2)\n",
            "Requirement already satisfied: charset-normalizer<4,>=2 in /usr/local/lib/python3.10/dist-packages (from requests>=2.7.0->sumy) (3.3.2)\n",
            "Requirement already satisfied: idna<4,>=2.5 in /usr/local/lib/python3.10/dist-packages (from requests>=2.7.0->sumy) (3.7)\n",
            "Requirement already satisfied: urllib3<3,>=1.21.1 in /usr/local/lib/python3.10/dist-packages (from requests>=2.7.0->sumy) (2.0.7)\n",
            "Requirement already satisfied: certifi>=2017.4.17 in /usr/local/lib/python3.10/dist-packages (from requests>=2.7.0->sumy) (2024.2.2)\n",
            "Building wheels for collected packages: breadability, docopt\n",
            "  Building wheel for breadability (setup.py) ... \u001b[?25l\u001b[?25hdone\n",
            "  Created wheel for breadability: filename=breadability-0.1.20-py2.py3-none-any.whl size=21693 sha256=e8ec38dcceee435a050cd2ce09562a8a4001571880cc953656dfcecbebf1c329\n",
            "  Stored in directory: /root/.cache/pip/wheels/64/22/90/b84fcc30e16598db20a0d41340616dbf9b1e82bbcc627b0b33\n",
            "  Building wheel for docopt (setup.py) ... \u001b[?25l\u001b[?25hdone\n",
            "  Created wheel for docopt: filename=docopt-0.6.2-py2.py3-none-any.whl size=13706 sha256=c735540d7684cf55e36e652d035dd0cb71da4d6928bea58e852df0a4d5e29ab2\n",
            "  Stored in directory: /root/.cache/pip/wheels/fc/ab/d4/5da2067ac95b36618c629a5f93f809425700506f72c9732fac\n",
            "Successfully built breadability docopt\n",
            "Installing collected packages: docopt, pycountry, breadability, sumy\n",
            "Successfully installed breadability-0.1.20 docopt-0.6.2 pycountry-23.12.11 sumy-0.11.0\n"
          ]
        }
      ]
    },
    {
      "cell_type": "code",
      "source": [
        "import nltk\n",
        "import random\n",
        "from nltk.corpus import stopwords\n",
        "from sumy.parsers.plaintext import PlaintextParser\n",
        "from sumy.nlp.tokenizers import Tokenizer\n",
        "from sumy.summarizers.lsa import LsaSummarizer\n",
        "from sumy.summarizers.lex_rank import LexRankSummarizer\n",
        "from sumy.summarizers.text_rank import TextRankSummarizer\n",
        "from sumy.summarizers.luhn import LuhnSummarizer"
      ],
      "metadata": {
        "id": "ZefQuJtm37aF"
      },
      "execution_count": 4,
      "outputs": []
    },
    {
      "cell_type": "code",
      "source": [
        "# NLTK downloads\n",
        "nltk.download('punkt')\n",
        "nltk.download('stopwords')"
      ],
      "metadata": {
        "colab": {
          "base_uri": "https://localhost:8080/"
        },
        "id": "N9b0rG-Z4ANZ",
        "outputId": "487ae433-ed72-4bd8-a4b9-747ce3ab49ae"
      },
      "execution_count": 5,
      "outputs": [
        {
          "output_type": "stream",
          "name": "stderr",
          "text": [
            "[nltk_data] Downloading package punkt to /root/nltk_data...\n",
            "[nltk_data]   Package punkt is already up-to-date!\n",
            "[nltk_data] Downloading package stopwords to /root/nltk_data...\n",
            "[nltk_data]   Unzipping corpora/stopwords.zip.\n"
          ]
        },
        {
          "output_type": "execute_result",
          "data": {
            "text/plain": [
              "True"
            ]
          },
          "metadata": {},
          "execution_count": 5
        }
      ]
    },
    {
      "cell_type": "code",
      "source": [
        "# Predefined responses for greetings\n",
        "GREETING_KEYWORDS = [\"hello\", \"hi\", \"hey\", \"greetings\", \"what's up\"]\n",
        "GREETING_RESPONSES = [\"Hello!\", \"Hi there!\", \"Hey!\", \"Greetings!\", \"Hi!\"]\n",
        "\n",
        "HEALTH_INFO = {\n",
        "    \"fever\": {\n",
        "        \"symptoms\": \"Symptoms: High body temperature, sweating, shivering, headache, muscle aches, loss of appetite, dehydration.\",\n",
        "        \"first_aid\": \"First Aid: Rest, drink plenty of fluids, take over-the-counter fever reducers (e.g., acetaminophen, ibuprofen).\",\n",
        "        \"healthy_tips\": \"Healthy Tips: Stay hydrated, rest, avoid alcohol and caffeine, eat light and easily digestible foods.\",\n",
        "        \"exercise_suggestion\": \"Exercise Suggestion: Rest is important during fever. Gentle stretching exercises can be done if comfortable.\"\n",
        "    },\n",
        "    \"headache\": {\n",
        "        \"symptoms\": \"Symptoms: Pain or discomfort in the head, scalp, or neck area.\",\n",
        "        \"first_aid\": \"First Aid: Rest in a quiet, dark room, apply cold or warm compresses to the head, take over-the-counter pain relievers.\",\n",
        "        \"healthy_tips\": \"Healthy Tips: Stay hydrated, practice good posture, manage stress, get regular sleep, avoid triggers (e.g., certain foods, loud noise).\",\n",
        "        \"exercise_suggestion\": \"Exercise Suggestion: Gentle neck and shoulder stretches, yoga, or low-impact cardio exercises may help relieve tension headaches.\"\n",
        "    },\n",
        "    \"stress\": {\n",
        "        \"symptoms\": \"Symptoms: Feeling overwhelmed, anxious, irritable, difficulty concentrating, muscle tension, headaches, fatigue.\",\n",
        "        \"first_aid\": \"First Aid: Practice relaxation techniques (deep breathing, meditation, yoga), engage in hobbies, talk to a friend or therapist.\",\n",
        "        \"healthy_tips\": \"Healthy Tips: Practice stress management techniques regularly, prioritize tasks, maintain a healthy work-life balance, get regular exercise and sleep.\",\n",
        "        \"exercise_suggestion\": \"Exercise Suggestion: Activities like yoga, tai chi, or walking can help reduce stress and promote relaxation.\"\n",
        "    },\n",
        "    \"back pain\": {\n",
        "        \"symptoms\": \"Symptoms: Pain, stiffness, or discomfort in the back area, may radiate to other parts of the body.\",\n",
        "        \"first_aid\": \"First Aid: Rest, apply ice or heat packs to the affected area, take over-the-counter pain relievers, use supportive pillows or cushions.\",\n",
        "        \"healthy_tips\": \"Healthy Tips: Maintain good posture, use ergonomic furniture, lift heavy objects properly, avoid prolonged sitting or standing.\",\n",
        "        \"exercise_suggestion\": \"Exercise Suggestion: Low-impact exercises like swimming, walking, or gentle stretching can help relieve back pain.\"\n",
        "    },\n",
        "    \"insomnia\": {\n",
        "        \"symptoms\": \"Symptoms: Difficulty falling asleep, staying asleep, waking up too early, feeling tired upon waking, irritability, difficulty concentrating.\",\n",
        "        \"first_aid\": \"First Aid: Establish a bedtime routine, create a comfortable sleep environment, avoid caffeine and electronics before bedtime, limit daytime naps.\",\n",
        "        \"healthy_tips\": \"Healthy Tips: Stick to a regular sleep schedule, limit screen time before bed, avoid heavy meals and caffeine close to bedtime.\",\n",
        "        \"exercise_suggestion\": \"Exercise Suggestion: Regular aerobic exercise during the day can improve sleep quality. Avoid vigorous exercise close to bedtime.\"\n",
        "    },\n",
        "}"
      ],
      "metadata": {
        "id": "m-a1JZwb4INT"
      },
      "execution_count": 12,
      "outputs": []
    },
    {
      "cell_type": "code",
      "source": [
        "# Function to preprocess text\n",
        "def preprocess_text(text):\n",
        "    stop_words = set(stopwords.words('english'))\n",
        "    words = nltk.word_tokenize(text.lower())\n",
        "    filtered_words = [word for word in words if word.isalnum() and word not in stop_words]\n",
        "    return \" \".join(filtered_words)"
      ],
      "metadata": {
        "id": "v4czg1f14g9e"
      },
      "execution_count": 13,
      "outputs": []
    },
    {
      "cell_type": "code",
      "source": [
        "# Function to generate response using text summarization\n",
        "def generate_response(user_input):\n",
        "    # Preprocess user input\n",
        "    user_input = preprocess_text(user_input)\n",
        "    # Check if user input matches any health topic\n",
        "    for health_topic in HEALTH_INFO.keys():\n",
        "        if health_topic in user_input:\n",
        "            health_data = HEALTH_INFO[health_topic]\n",
        "            # Summarize health information\n",
        "            symptoms = health_data['symptoms']\n",
        "            parser = PlaintextParser.from_string(symptoms, Tokenizer(\"english\"))\n",
        "            summarizer = LsaSummarizer()\n",
        "            summary = summarizer(parser.document, sentences_count=1)  # Summarize to 1 sentence\n",
        "            summary_text = \" \".join([str(sentence) for sentence in summary])\n",
        "            # Construct response including summarized symptoms, first aid, healthy tips, and exercise suggestions\n",
        "            response = f\"{summary_text}\\n{health_data.get('first_aid', '')}\\n{health_data.get('healthy_tips', '')}\\n{health_data.get('exercise_suggestion', '')}\"\n",
        "            return response\n",
        "    # If no health topic is recognized, provide a generic response\n",
        "    return \"I'm sorry, I don't have information about that health topic.\"\n",
        "\n"
      ],
      "metadata": {
        "id": "MTJLCE424mUN"
      },
      "execution_count": 14,
      "outputs": []
    },
    {
      "cell_type": "code",
      "source": [
        "# Function to handle greetings\n",
        "def handle_greetings(user_input):\n",
        "    for word in user_input.split():\n",
        "        if word.lower() in GREETING_KEYWORDS:\n",
        "            return random.choice(GREETING_RESPONSES)\n",
        "    return None\n"
      ],
      "metadata": {
        "id": "xJbc4V4P4xhf"
      },
      "execution_count": 15,
      "outputs": []
    },
    {
      "cell_type": "code",
      "source": [
        "# Chatbot loop\n",
        "print(\"HealthAssist: Hello! I'm HealthAssist, your health and wellness chatbot.\")\n",
        "print(\"HealthAssist: I can provide information and guidance on various health topics.\")\n",
        "print(\"HealthAssist: Feel free to ask me anything!\")\n",
        "while True:\n",
        "    user_input = input(\"You: \")\n",
        "    if user_input.lower() == \"exit\":\n",
        "        print(\"HealthAssist: Goodbye! Take care!\")\n",
        "        break\n",
        "    greeting_response = handle_greetings(user_input)\n",
        "    if greeting_response:\n",
        "        print(\"HealthAssist:\", greeting_response)\n",
        "    else:\n",
        "        response = generate_response(user_input)\n",
        "        print(\"HealthAssist:\",response)"
      ],
      "metadata": {
        "colab": {
          "base_uri": "https://localhost:8080/"
        },
        "id": "hVqivHgT42qH",
        "outputId": "637fb360-4ed5-4b91-e34b-19517a8f63f1"
      },
      "execution_count": 16,
      "outputs": [
        {
          "output_type": "stream",
          "name": "stdout",
          "text": [
            "HealthAssist: Hello! I'm HealthAssist, your health and wellness chatbot.\n",
            "HealthAssist: I can provide information and guidance on various health topics.\n",
            "HealthAssist: Feel free to ask me anything!\n",
            "You: hey\n",
            "HealthAssist: Greetings!\n",
            "You: fever\n",
            "HealthAssist: Symptoms: High body temperature, sweating, shivering, headache, muscle aches, loss of appetite, dehydration.\n",
            "First Aid: Rest, drink plenty of fluids, take over-the-counter fever reducers (e.g., acetaminophen, ibuprofen).\n",
            "Healthy Tips: Stay hydrated, rest, avoid alcohol and caffeine, eat light and easily digestible foods.\n",
            "Exercise Suggestion: Rest is important during fever. Gentle stretching exercises can be done if comfortable.\n",
            "You: exit\n",
            "HealthAssist: Goodbye! Take care!\n"
          ]
        }
      ]
    }
  ]
}